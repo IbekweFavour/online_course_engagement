{
 "cells": [
  {
   "cell_type": "markdown",
   "id": "cf2b7d38",
   "metadata": {},
   "source": [
    "## **Problem Statement**  \n",
    "\n",
    "This project seeks to build a Neural Machine learning model that can estimate the probability of students' performance by analyzing their current academic results."
   ]
  },
  {
   "cell_type": "markdown",
   "id": "267409c9",
   "metadata": {},
   "source": [
    "## **Features of The Dataset**  \n",
    "\n",
    "**user_id**: Unique identifier for each Student  \n",
    "\n",
    "**CourseCategory**: Type of the Course\n",
    "\n",
    "**TimeSpentOnCourse**:  Number of times each student spend on a course\n",
    "\n",
    "**NumberOfVideosWatched**:  Number of times each student spend on a video course\n",
    "\n",
    "**NumberOfQuizzesTaken**: Number of Quizzes Taken\n",
    "\n",
    "**QuizScores**:  Score of the Quiz\n",
    "\n",
    "**CompletionRate**:  Completion Rate\n",
    "\n",
    "**DeviceType**:  Type of Device\n",
    "\n",
    "**CourseCompletion**: Students able to complete the course.  \n",
    "1: Represents a Completed  \n",
    "0: Represent not completed"
   ]
  },
  {
   "cell_type": "markdown",
   "id": "f4c321bb",
   "metadata": {},
   "source": [
    "### Importing my Liberies"
   ]
  },
  {
   "cell_type": "code",
   "execution_count": 5,
   "id": "06733024",
   "metadata": {},
   "outputs": [],
   "source": [
    "import pandas as pd\n",
    "import numpy as np\n",
    "import seaborn as sns\n",
    "import matplotlib.pyplot as plt\n",
    "from sklearn.preprocessing import StandardScaler, MinMaxScaler, OneHotEncoder\n",
    "from sklearn.model_selection import train_test_split, RandomizedSearchCV, GridSearchCV\n",
    "from sklearn.neural_network import MLPClassifier\n",
    "from sklearn.metrics import accuracy_score, f1_score, recall_score, precision_score, classification_report, confusion_matrix\n",
    "import warnings\n",
    "warnings.filterwarnings('ignore')"
   ]
  },
  {
   "cell_type": "code",
   "execution_count": 28,
   "id": "fcc86252",
   "metadata": {},
   "outputs": [
    {
     "data": {
      "text/html": [
       "<div>\n",
       "<style scoped>\n",
       "    .dataframe tbody tr th:only-of-type {\n",
       "        vertical-align: middle;\n",
       "    }\n",
       "\n",
       "    .dataframe tbody tr th {\n",
       "        vertical-align: top;\n",
       "    }\n",
       "\n",
       "    .dataframe thead th {\n",
       "        text-align: right;\n",
       "    }\n",
       "</style>\n",
       "<table border=\"1\" class=\"dataframe\">\n",
       "  <thead>\n",
       "    <tr style=\"text-align: right;\">\n",
       "      <th></th>\n",
       "      <th>UserID</th>\n",
       "      <th>CourseCategory</th>\n",
       "      <th>TimeSpentOnCourse</th>\n",
       "      <th>NumberOfVideosWatched</th>\n",
       "      <th>NumberOfQuizzesTaken</th>\n",
       "      <th>QuizScores</th>\n",
       "      <th>CompletionRate</th>\n",
       "      <th>DeviceType</th>\n",
       "      <th>CourseCompletion</th>\n",
       "    </tr>\n",
       "  </thead>\n",
       "  <tbody>\n",
       "    <tr>\n",
       "      <th>0</th>\n",
       "      <td>5618</td>\n",
       "      <td>Health</td>\n",
       "      <td>29.979719</td>\n",
       "      <td>17</td>\n",
       "      <td>3</td>\n",
       "      <td>50.365656</td>\n",
       "      <td>20.860773</td>\n",
       "      <td>1</td>\n",
       "      <td>0</td>\n",
       "    </tr>\n",
       "    <tr>\n",
       "      <th>1</th>\n",
       "      <td>4326</td>\n",
       "      <td>Arts</td>\n",
       "      <td>27.802640</td>\n",
       "      <td>1</td>\n",
       "      <td>5</td>\n",
       "      <td>62.615970</td>\n",
       "      <td>65.632415</td>\n",
       "      <td>1</td>\n",
       "      <td>0</td>\n",
       "    </tr>\n",
       "    <tr>\n",
       "      <th>2</th>\n",
       "      <td>5849</td>\n",
       "      <td>Arts</td>\n",
       "      <td>86.820485</td>\n",
       "      <td>14</td>\n",
       "      <td>2</td>\n",
       "      <td>78.458962</td>\n",
       "      <td>63.812007</td>\n",
       "      <td>1</td>\n",
       "      <td>1</td>\n",
       "    </tr>\n",
       "    <tr>\n",
       "      <th>3</th>\n",
       "      <td>4992</td>\n",
       "      <td>Science</td>\n",
       "      <td>35.038427</td>\n",
       "      <td>17</td>\n",
       "      <td>10</td>\n",
       "      <td>59.198853</td>\n",
       "      <td>95.433162</td>\n",
       "      <td>0</td>\n",
       "      <td>1</td>\n",
       "    </tr>\n",
       "    <tr>\n",
       "      <th>4</th>\n",
       "      <td>3866</td>\n",
       "      <td>Programming</td>\n",
       "      <td>92.490647</td>\n",
       "      <td>16</td>\n",
       "      <td>0</td>\n",
       "      <td>98.428285</td>\n",
       "      <td>18.102478</td>\n",
       "      <td>0</td>\n",
       "      <td>0</td>\n",
       "    </tr>\n",
       "  </tbody>\n",
       "</table>\n",
       "</div>"
      ],
      "text/plain": [
       "   UserID CourseCategory  TimeSpentOnCourse  NumberOfVideosWatched  \\\n",
       "0    5618         Health          29.979719                     17   \n",
       "1    4326           Arts          27.802640                      1   \n",
       "2    5849           Arts          86.820485                     14   \n",
       "3    4992        Science          35.038427                     17   \n",
       "4    3866    Programming          92.490647                     16   \n",
       "\n",
       "   NumberOfQuizzesTaken  QuizScores  CompletionRate  DeviceType  \\\n",
       "0                     3   50.365656       20.860773           1   \n",
       "1                     5   62.615970       65.632415           1   \n",
       "2                     2   78.458962       63.812007           1   \n",
       "3                    10   59.198853       95.433162           0   \n",
       "4                     0   98.428285       18.102478           0   \n",
       "\n",
       "   CourseCompletion  \n",
       "0                 0  \n",
       "1                 0  \n",
       "2                 1  \n",
       "3                 1  \n",
       "4                 0  "
      ]
     },
     "execution_count": 28,
     "metadata": {},
     "output_type": "execute_result"
    }
   ],
   "source": [
    "# Data Set\n",
    "data = pd.read_csv('online_course_engagement_data.csv')\n",
    "data.head()"
   ]
  },
  {
   "cell_type": "code",
   "execution_count": 29,
   "id": "701ea1d6",
   "metadata": {},
   "outputs": [],
   "source": [
    "data['CourseCompletion'] = data['CourseCompletion'].map({1: 'Completed', 0:'Not Completed'})"
   ]
  },
  {
   "cell_type": "code",
   "execution_count": 30,
   "id": "f2e8b2e8",
   "metadata": {},
   "outputs": [
    {
     "data": {
      "text/html": [
       "<div>\n",
       "<style scoped>\n",
       "    .dataframe tbody tr th:only-of-type {\n",
       "        vertical-align: middle;\n",
       "    }\n",
       "\n",
       "    .dataframe tbody tr th {\n",
       "        vertical-align: top;\n",
       "    }\n",
       "\n",
       "    .dataframe thead th {\n",
       "        text-align: right;\n",
       "    }\n",
       "</style>\n",
       "<table border=\"1\" class=\"dataframe\">\n",
       "  <thead>\n",
       "    <tr style=\"text-align: right;\">\n",
       "      <th></th>\n",
       "      <th>UserID</th>\n",
       "      <th>CourseCategory</th>\n",
       "      <th>TimeSpentOnCourse</th>\n",
       "      <th>NumberOfVideosWatched</th>\n",
       "      <th>NumberOfQuizzesTaken</th>\n",
       "      <th>QuizScores</th>\n",
       "      <th>CompletionRate</th>\n",
       "      <th>DeviceType</th>\n",
       "      <th>CourseCompletion</th>\n",
       "    </tr>\n",
       "  </thead>\n",
       "  <tbody>\n",
       "    <tr>\n",
       "      <th>8995</th>\n",
       "      <td>8757</td>\n",
       "      <td>Health</td>\n",
       "      <td>37.445225</td>\n",
       "      <td>14</td>\n",
       "      <td>4</td>\n",
       "      <td>54.469359</td>\n",
       "      <td>32.990704</td>\n",
       "      <td>1</td>\n",
       "      <td>Not Completed</td>\n",
       "    </tr>\n",
       "    <tr>\n",
       "      <th>8996</th>\n",
       "      <td>894</td>\n",
       "      <td>Science</td>\n",
       "      <td>48.631443</td>\n",
       "      <td>7</td>\n",
       "      <td>7</td>\n",
       "      <td>59.413257</td>\n",
       "      <td>0.254625</td>\n",
       "      <td>0</td>\n",
       "      <td>Not Completed</td>\n",
       "    </tr>\n",
       "    <tr>\n",
       "      <th>8997</th>\n",
       "      <td>6323</td>\n",
       "      <td>Health</td>\n",
       "      <td>38.212512</td>\n",
       "      <td>3</td>\n",
       "      <td>3</td>\n",
       "      <td>69.508297</td>\n",
       "      <td>70.188159</td>\n",
       "      <td>1</td>\n",
       "      <td>Not Completed</td>\n",
       "    </tr>\n",
       "    <tr>\n",
       "      <th>8998</th>\n",
       "      <td>3652</td>\n",
       "      <td>Health</td>\n",
       "      <td>70.048665</td>\n",
       "      <td>13</td>\n",
       "      <td>10</td>\n",
       "      <td>79.655182</td>\n",
       "      <td>72.975225</td>\n",
       "      <td>1</td>\n",
       "      <td>Completed</td>\n",
       "    </tr>\n",
       "    <tr>\n",
       "      <th>8999</th>\n",
       "      <td>5595</td>\n",
       "      <td>Health</td>\n",
       "      <td>93.589781</td>\n",
       "      <td>7</td>\n",
       "      <td>5</td>\n",
       "      <td>56.274546</td>\n",
       "      <td>11.299071</td>\n",
       "      <td>0</td>\n",
       "      <td>Not Completed</td>\n",
       "    </tr>\n",
       "  </tbody>\n",
       "</table>\n",
       "</div>"
      ],
      "text/plain": [
       "      UserID CourseCategory  TimeSpentOnCourse  NumberOfVideosWatched  \\\n",
       "8995    8757         Health          37.445225                     14   \n",
       "8996     894        Science          48.631443                      7   \n",
       "8997    6323         Health          38.212512                      3   \n",
       "8998    3652         Health          70.048665                     13   \n",
       "8999    5595         Health          93.589781                      7   \n",
       "\n",
       "      NumberOfQuizzesTaken  QuizScores  CompletionRate  DeviceType  \\\n",
       "8995                     4   54.469359       32.990704           1   \n",
       "8996                     7   59.413257        0.254625           0   \n",
       "8997                     3   69.508297       70.188159           1   \n",
       "8998                    10   79.655182       72.975225           1   \n",
       "8999                     5   56.274546       11.299071           0   \n",
       "\n",
       "     CourseCompletion  \n",
       "8995    Not Completed  \n",
       "8996    Not Completed  \n",
       "8997    Not Completed  \n",
       "8998        Completed  \n",
       "8999    Not Completed  "
      ]
     },
     "execution_count": 30,
     "metadata": {},
     "output_type": "execute_result"
    }
   ],
   "source": [
    "data.tail()"
   ]
  },
  {
   "cell_type": "code",
   "execution_count": 31,
   "id": "28432820",
   "metadata": {},
   "outputs": [
    {
     "data": {
      "image/png": "[encoded data removed]",
      "text/plain": [
       "<Figure size 432x288 with 1 Axes>"
      ]
     },
     "metadata": {
      "needs_background": "light"
     },
     "output_type": "display_data"
    }
   ],
   "source": [
    "sns.countplot(x = 'CourseCompletion', data = data)\n",
    "plt.show()"
   ]
  },
  {
   "cell_type": "markdown",
   "id": "a67c7e04",
   "metadata": {},
   "source": [
    "#### Observation\n",
    "We have less student that completed the course"
   ]
  },
  {
   "cell_type": "markdown",
   "id": "ff167afa",
   "metadata": {},
   "source": [
    "#### making a visual of the highest course categories"
   ]
  },
  {
   "cell_type": "code",
   "execution_count": 34,
   "id": "1e717173",
   "metadata": {},
   "outputs": [
    {
     "data": {
      "image/png": "[encoded data removed]",
      "text/plain": [
       "<Figure size 432x288 with 1 Axes>"
      ]
     },
     "metadata": {
      "needs_background": "light"
     },
     "output_type": "display_data"
    }
   ],
   "source": [
    "sns.barplot(x = 'CourseCompletion', y = 'QuizScores', data = data)\n",
    "plt.show()"
   ]
  },
  {
   "cell_type": "markdown",
   "id": "895347b6",
   "metadata": {},
   "source": [
    "#### Observation\n",
    "Regardless that they are less students that has completed the course, the total quiz score of the less student that has completed the course is bigger than the student that has not completed the course."
   ]
  },
  {
   "cell_type": "code",
   "execution_count": 4,
   "id": "95772d0e",
   "metadata": {},
   "outputs": [
    {
     "data": {
      "text/plain": [
       "Business       1837\n",
       "Health         1821\n",
       "Science        1814\n",
       "Programming    1810\n",
       "Arts           1718\n",
       "Name: CourseCategory, dtype: int64"
      ]
     },
     "execution_count": 4,
     "metadata": {},
     "output_type": "execute_result"
    }
   ],
   "source": [
    "data['CourseCategory'].value_counts()"
   ]
  },
  {
   "cell_type": "markdown",
   "id": "4db0f8b1",
   "metadata": {},
   "source": [
    "#### The UserID does not give me any information, so drop it\n",
    "Note that, What i'm trying to predict is the depencent variable which is the CourseComppletion"
   ]
  },
  {
   "cell_type": "code",
   "execution_count": 5,
   "id": "5a6fbf80",
   "metadata": {},
   "outputs": [
    {
     "data": {
      "text/plain": [
       "0    5432\n",
       "1    3568\n",
       "Name: CourseCompletion, dtype: int64"
      ]
     },
     "execution_count": 5,
     "metadata": {},
     "output_type": "execute_result"
    }
   ],
   "source": [
    "data['CourseCompletion'].value_counts()"
   ]
  },
  {
   "cell_type": "markdown",
   "id": "1d5f5efa",
   "metadata": {},
   "source": [
    "#### Checking if there is an outlier "
   ]
  },
  {
   "cell_type": "code",
   "execution_count": 35,
   "id": "7038d420",
   "metadata": {},
   "outputs": [
    {
     "data": {
      "image/png": "[encoded data removed]",
      "text/plain": [
       "<Figure size 432x288 with 1 Axes>"
      ]
     },
     "metadata": {
      "needs_background": "light"
     },
     "output_type": "display_data"
    }
   ],
   "source": [
    "sns.boxplot(x = 'CourseCompletion', y = 'TimeSpentOnCourse', data = data)\n",
    "plt.show()"
   ]
  },
  {
   "cell_type": "markdown",
   "id": "adb7e7e4",
   "metadata": {},
   "source": [
    "#### Observation\n",
    "There is no outlier in the number of student that completed the course"
   ]
  },
  {
   "cell_type": "code",
   "execution_count": 36,
   "id": "746ed9ea",
   "metadata": {},
   "outputs": [],
   "source": [
    "data['CourseCompletion'] = data['CourseCompletion'].map({'Completed': 1, 'Not Completed': 0})"
   ]
  },
  {
   "cell_type": "code",
   "execution_count": 37,
   "id": "0c01ecfe",
   "metadata": {},
   "outputs": [
    {
     "data": {
      "text/html": [
       "<div>\n",
       "<style scoped>\n",
       "    .dataframe tbody tr th:only-of-type {\n",
       "        vertical-align: middle;\n",
       "    }\n",
       "\n",
       "    .dataframe tbody tr th {\n",
       "        vertical-align: top;\n",
       "    }\n",
       "\n",
       "    .dataframe thead th {\n",
       "        text-align: right;\n",
       "    }\n",
       "</style>\n",
       "<table border=\"1\" class=\"dataframe\">\n",
       "  <thead>\n",
       "    <tr style=\"text-align: right;\">\n",
       "      <th></th>\n",
       "      <th>UserID</th>\n",
       "      <th>CourseCategory</th>\n",
       "      <th>TimeSpentOnCourse</th>\n",
       "      <th>NumberOfVideosWatched</th>\n",
       "      <th>NumberOfQuizzesTaken</th>\n",
       "      <th>QuizScores</th>\n",
       "      <th>CompletionRate</th>\n",
       "      <th>DeviceType</th>\n",
       "      <th>CourseCompletion</th>\n",
       "    </tr>\n",
       "  </thead>\n",
       "  <tbody>\n",
       "    <tr>\n",
       "      <th>0</th>\n",
       "      <td>5618</td>\n",
       "      <td>Health</td>\n",
       "      <td>29.979719</td>\n",
       "      <td>17</td>\n",
       "      <td>3</td>\n",
       "      <td>50.365656</td>\n",
       "      <td>20.860773</td>\n",
       "      <td>1</td>\n",
       "      <td>0</td>\n",
       "    </tr>\n",
       "    <tr>\n",
       "      <th>1</th>\n",
       "      <td>4326</td>\n",
       "      <td>Arts</td>\n",
       "      <td>27.802640</td>\n",
       "      <td>1</td>\n",
       "      <td>5</td>\n",
       "      <td>62.615970</td>\n",
       "      <td>65.632415</td>\n",
       "      <td>1</td>\n",
       "      <td>0</td>\n",
       "    </tr>\n",
       "  </tbody>\n",
       "</table>\n",
       "</div>"
      ],
      "text/plain": [
       "   UserID CourseCategory  TimeSpentOnCourse  NumberOfVideosWatched  \\\n",
       "0    5618         Health          29.979719                     17   \n",
       "1    4326           Arts          27.802640                      1   \n",
       "\n",
       "   NumberOfQuizzesTaken  QuizScores  CompletionRate  DeviceType  \\\n",
       "0                     3   50.365656       20.860773           1   \n",
       "1                     5   62.615970       65.632415           1   \n",
       "\n",
       "   CourseCompletion  \n",
       "0                 0  \n",
       "1                 0  "
      ]
     },
     "execution_count": 37,
     "metadata": {},
     "output_type": "execute_result"
    }
   ],
   "source": [
    "data.head(2)"
   ]
  },
  {
   "cell_type": "code",
   "execution_count": 38,
   "id": "986b9f38",
   "metadata": {},
   "outputs": [
    {
     "name": "stdout",
     "output_type": "stream",
     "text": [
      "<class 'pandas.core.frame.DataFrame'>\n",
      "RangeIndex: 9000 entries, 0 to 8999\n",
      "Data columns (total 9 columns):\n",
      " #   Column                 Non-Null Count  Dtype  \n",
      "---  ------                 --------------  -----  \n",
      " 0   UserID                 9000 non-null   int64  \n",
      " 1   CourseCategory         9000 non-null   object \n",
      " 2   TimeSpentOnCourse      9000 non-null   float64\n",
      " 3   NumberOfVideosWatched  9000 non-null   int64  \n",
      " 4   NumberOfQuizzesTaken   9000 non-null   int64  \n",
      " 5   QuizScores             9000 non-null   float64\n",
      " 6   CompletionRate         9000 non-null   float64\n",
      " 7   DeviceType             9000 non-null   int64  \n",
      " 8   CourseCompletion       9000 non-null   int64  \n",
      "dtypes: float64(3), int64(5), object(1)\n",
      "memory usage: 632.9+ KB\n"
     ]
    }
   ],
   "source": [
    "data.info()"
   ]
  },
  {
   "cell_type": "code",
   "execution_count": 39,
   "id": "53c5fcb7",
   "metadata": {},
   "outputs": [
    {
     "data": {
      "text/plain": [
       "UserID                   0\n",
       "CourseCategory           0\n",
       "TimeSpentOnCourse        0\n",
       "NumberOfVideosWatched    0\n",
       "NumberOfQuizzesTaken     0\n",
       "QuizScores               0\n",
       "CompletionRate           0\n",
       "DeviceType               0\n",
       "CourseCompletion         0\n",
       "dtype: int64"
      ]
     },
     "execution_count": 39,
     "metadata": {},
     "output_type": "execute_result"
    }
   ],
   "source": [
    "data.isna().sum()"
   ]
  },
  {
   "cell_type": "code",
   "execution_count": 40,
   "id": "49b6429f",
   "metadata": {},
   "outputs": [],
   "source": [
    "# Droping Duplicates\n",
    "data.drop_duplicates(inplace = True)"
   ]
  },
  {
   "cell_type": "markdown",
   "id": "8581b509",
   "metadata": {},
   "source": [
    "### Splitting my Data Set"
   ]
  },
  {
   "cell_type": "code",
   "execution_count": 41,
   "id": "855707f0",
   "metadata": {},
   "outputs": [],
   "source": [
    "X = data.drop(columns = ['UserID', 'CourseCompletion'])\n",
    "y = data['CourseCompletion']"
   ]
  },
  {
   "cell_type": "markdown",
   "id": "d08d48f1",
   "metadata": {},
   "source": [
    "### Encoding"
   ]
  },
  {
   "cell_type": "code",
   "execution_count": 42,
   "id": "ef0f2255",
   "metadata": {},
   "outputs": [
    {
     "data": {
      "text/html": [
       "<div>\n",
       "<style scoped>\n",
       "    .dataframe tbody tr th:only-of-type {\n",
       "        vertical-align: middle;\n",
       "    }\n",
       "\n",
       "    .dataframe tbody tr th {\n",
       "        vertical-align: top;\n",
       "    }\n",
       "\n",
       "    .dataframe thead th {\n",
       "        text-align: right;\n",
       "    }\n",
       "</style>\n",
       "<table border=\"1\" class=\"dataframe\">\n",
       "  <thead>\n",
       "    <tr style=\"text-align: right;\">\n",
       "      <th></th>\n",
       "      <th>TimeSpentOnCourse</th>\n",
       "      <th>NumberOfVideosWatched</th>\n",
       "      <th>NumberOfQuizzesTaken</th>\n",
       "      <th>QuizScores</th>\n",
       "      <th>CompletionRate</th>\n",
       "      <th>DeviceType</th>\n",
       "      <th>CourseCategory_Business</th>\n",
       "      <th>CourseCategory_Health</th>\n",
       "      <th>CourseCategory_Programming</th>\n",
       "      <th>CourseCategory_Science</th>\n",
       "    </tr>\n",
       "  </thead>\n",
       "  <tbody>\n",
       "    <tr>\n",
       "      <th>0</th>\n",
       "      <td>29.979719</td>\n",
       "      <td>17</td>\n",
       "      <td>3</td>\n",
       "      <td>50.365656</td>\n",
       "      <td>20.860773</td>\n",
       "      <td>1</td>\n",
       "      <td>0</td>\n",
       "      <td>1</td>\n",
       "      <td>0</td>\n",
       "      <td>0</td>\n",
       "    </tr>\n",
       "    <tr>\n",
       "      <th>1</th>\n",
       "      <td>27.802640</td>\n",
       "      <td>1</td>\n",
       "      <td>5</td>\n",
       "      <td>62.615970</td>\n",
       "      <td>65.632415</td>\n",
       "      <td>1</td>\n",
       "      <td>0</td>\n",
       "      <td>0</td>\n",
       "      <td>0</td>\n",
       "      <td>0</td>\n",
       "    </tr>\n",
       "    <tr>\n",
       "      <th>2</th>\n",
       "      <td>86.820485</td>\n",
       "      <td>14</td>\n",
       "      <td>2</td>\n",
       "      <td>78.458962</td>\n",
       "      <td>63.812007</td>\n",
       "      <td>1</td>\n",
       "      <td>0</td>\n",
       "      <td>0</td>\n",
       "      <td>0</td>\n",
       "      <td>0</td>\n",
       "    </tr>\n",
       "    <tr>\n",
       "      <th>3</th>\n",
       "      <td>35.038427</td>\n",
       "      <td>17</td>\n",
       "      <td>10</td>\n",
       "      <td>59.198853</td>\n",
       "      <td>95.433162</td>\n",
       "      <td>0</td>\n",
       "      <td>0</td>\n",
       "      <td>0</td>\n",
       "      <td>0</td>\n",
       "      <td>1</td>\n",
       "    </tr>\n",
       "    <tr>\n",
       "      <th>4</th>\n",
       "      <td>92.490647</td>\n",
       "      <td>16</td>\n",
       "      <td>0</td>\n",
       "      <td>98.428285</td>\n",
       "      <td>18.102478</td>\n",
       "      <td>0</td>\n",
       "      <td>0</td>\n",
       "      <td>0</td>\n",
       "      <td>1</td>\n",
       "      <td>0</td>\n",
       "    </tr>\n",
       "  </tbody>\n",
       "</table>\n",
       "</div>"
      ],
      "text/plain": [
       "   TimeSpentOnCourse  NumberOfVideosWatched  NumberOfQuizzesTaken  QuizScores  \\\n",
       "0          29.979719                     17                     3   50.365656   \n",
       "1          27.802640                      1                     5   62.615970   \n",
       "2          86.820485                     14                     2   78.458962   \n",
       "3          35.038427                     17                    10   59.198853   \n",
       "4          92.490647                     16                     0   98.428285   \n",
       "\n",
       "   CompletionRate  DeviceType  CourseCategory_Business  CourseCategory_Health  \\\n",
       "0       20.860773           1                        0                      1   \n",
       "1       65.632415           1                        0                      0   \n",
       "2       63.812007           1                        0                      0   \n",
       "3       95.433162           0                        0                      0   \n",
       "4       18.102478           0                        0                      0   \n",
       "\n",
       "   CourseCategory_Programming  CourseCategory_Science  \n",
       "0                           0                       0  \n",
       "1                           0                       0  \n",
       "2                           0                       0  \n",
       "3                           0                       1  \n",
       "4                           1                       0  "
      ]
     },
     "execution_count": 42,
     "metadata": {},
     "output_type": "execute_result"
    }
   ],
   "source": [
    "# Encoding the Categorical Variable\n",
    "X = pd.get_dummies(X, columns =['CourseCategory'], drop_first = True)\n",
    "X.head()"
   ]
  },
  {
   "cell_type": "code",
   "execution_count": 43,
   "id": "28e39966",
   "metadata": {},
   "outputs": [
    {
     "data": {
      "image/png": "[encoded data removed]",
      "text/plain": [
       "<Figure size 864x360 with 2 Axes>"
      ]
     },
     "metadata": {
      "needs_background": "light"
     },
     "output_type": "display_data"
    }
   ],
   "source": [
    "# Checking the Correlation between two variables\n",
    "correlation = data.corr()\n",
    "plt.figure(figsize = (12, 5))\n",
    "sns.heatmap(correlation, annot = True)\n",
    "plt.title('Correlation Between Two Variables')\n",
    "plt.show()"
   ]
  },
  {
   "cell_type": "markdown",
   "id": "b641be71",
   "metadata": {},
   "source": [
    "### Splitting the Data into Train and Test Split"
   ]
  },
  {
   "cell_type": "code",
   "execution_count": 44,
   "id": "0f481ea0",
   "metadata": {},
   "outputs": [],
   "source": [
    "X_train, X_test, y_train, y_test = train_test_split(X, y, test_size = 0.3, random_state=42)"
   ]
  },
  {
   "cell_type": "markdown",
   "id": "b6c53145",
   "metadata": {},
   "source": [
    "### Building model using Neural Network\n",
    "- Checking out for the best parameter using the Randomized Search Cv"
   ]
  },
  {
   "cell_type": "code",
   "execution_count": 45,
   "id": "15469f2d",
   "metadata": {},
   "outputs": [
    {
     "data": {
      "text/plain": [
       "RandomizedSearchCV(cv=5, estimator=MLPClassifier(max_iter=100, random_state=42),\n",
       "                   n_jobs=-1,\n",
       "                   param_distributions={'activation': ['relu', 'tanh'],\n",
       "                                        'alpha': [1e-06, 0.5],\n",
       "                                        'hidden_layer_sizes': [(50, 50),\n",
       "                                                               (100,)],\n",
       "                                        'learning_rate': ['constatnt',\n",
       "                                                          'adaptive'],\n",
       "                                        'solver': ['adam', 'sgd']},\n",
       "                   scoring='accuracy')"
      ]
     },
     "execution_count": 45,
     "metadata": {},
     "output_type": "execute_result"
    }
   ],
   "source": [
    "# Neural Netwowrk\n",
    "mlp = MLPClassifier(max_iter = 100, random_state = 42)\n",
    "\n",
    "# Tuning the parameter\n",
    "parameter_distribution = {'hidden_layer_sizes':[(50,50), (100,)],\n",
    "                         'activation':['relu', 'tanh'],\n",
    "                         'learning_rate':['constatnt', 'adaptive'],\n",
    "                          'solver':['adam','sgd'],\n",
    "                          'alpha':[0.000001, 0.5]\n",
    "                         }\n",
    "\n",
    "random_search = RandomizedSearchCV(estimator=mlp, param_distributions=parameter_distribution, cv=5, scoring='accuracy', n_jobs=-1)\n",
    "\n",
    "# Training the Model\n",
    "random_search.fit(X_train, y_train)"
   ]
  },
  {
   "cell_type": "code",
   "execution_count": 46,
   "id": "52980c7f",
   "metadata": {},
   "outputs": [
    {
     "data": {
      "text/plain": [
       "array([0, 1, 1, ..., 1, 0, 1], dtype=int64)"
      ]
     },
     "execution_count": 46,
     "metadata": {},
     "output_type": "execute_result"
    }
   ],
   "source": [
    "# Prediction\n",
    "y_prediction = random_search.predict(X_test)\n",
    "y_prediction"
   ]
  },
  {
   "cell_type": "code",
   "execution_count": 47,
   "id": "8803e009",
   "metadata": {},
   "outputs": [
    {
     "data": {
      "text/plain": [
       "0.8686910135412392"
      ]
     },
     "execution_count": 47,
     "metadata": {},
     "output_type": "execute_result"
    }
   ],
   "source": [
    "# Evaluation\n",
    "evaluation = accuracy_score(y_test, y_prediction)\n",
    "evaluation"
   ]
  },
  {
   "cell_type": "code",
   "execution_count": 53,
   "id": "d3097891",
   "metadata": {},
   "outputs": [
    {
     "name": "stdout",
     "output_type": "stream",
     "text": [
      "[[1455    0]\n",
      " [   0  982]]\n"
     ]
    }
   ],
   "source": [
    "# Checking the Confusion Metrix\n",
    "conf_matrix = confusion_matrix(y_prediction, y_prediction)\n",
    "print(conf_matrix)"
   ]
  },
  {
   "cell_type": "code",
   "execution_count": 48,
   "id": "8b345fc0",
   "metadata": {},
   "outputs": [
    {
     "data": {
      "text/plain": [
       "{'solver': 'adam',\n",
       " 'learning_rate': 'adaptive',\n",
       " 'hidden_layer_sizes': (100,),\n",
       " 'alpha': 0.5,\n",
       " 'activation': 'relu'}"
      ]
     },
     "execution_count": 48,
     "metadata": {},
     "output_type": "execute_result"
    }
   ],
   "source": [
    "# Picking out the Best Estimator\n",
    "best_estimator = random_search.best_params_\n",
    "best_estimator"
   ]
  },
  {
   "cell_type": "markdown",
   "id": "93ebed81",
   "metadata": {},
   "source": [
    "### Visualization of the Best Accuracy"
   ]
  },
  {
   "cell_type": "code",
   "execution_count": 54,
   "id": "c6d61732",
   "metadata": {},
   "outputs": [],
   "source": [
    "best_accuracy = MLPClassifier(activation = 'relu', alpha = 0.5, learning_rate = 'adaptive', solver = 'adam', hidden_layer_sizes = (100,))"
   ]
  },
  {
   "cell_type": "code",
   "execution_count": 55,
   "id": "568d6447",
   "metadata": {},
   "outputs": [],
   "source": [
    "max_epochs = 100\n",
    "train_accuracy = []\n",
    "test_accuracy = []\n",
    "for epochs in range(max_epochs):\n",
    "    best_accuracy.fit(X_train, y_train)\n",
    "    train_accuracy.append(accuracy_score(y_train, best_accuracy.predict(X_train)))\n",
    "    test_accuracy.append(accuracy_score(y_test, best_accuracy.predict(X_test)))"
   ]
  },
  {
   "cell_type": "code",
   "execution_count": 56,
   "id": "ac1f675d",
   "metadata": {},
   "outputs": [
    {
     "data": {
      "text/plain": [
       "Text(0.5, 1.0, 'Model Accuracy')"
      ]
     },
     "execution_count": 56,
     "metadata": {},
     "output_type": "execute_result"
    },
    {
     "data": {
      "image/png": "[encoded data removed]",
      "text/plain": [
       "<Figure size 864x432 with 1 Axes>"
      ]
     },
     "metadata": {
      "needs_background": "light"
     },
     "output_type": "display_data"
    }
   ],
   "source": [
    "plt.figure(figsize = (12, 6))\n",
    "plt.plot(range(max_epochs), train_accuracy, label = 'Train Accuracy')\n",
    "plt.plot(range(max_epochs), test_accuracy, label = 'Test Accuracy')\n",
    "plt.legend()\n",
    "plt.xlabel('Epochs')\n",
    "plt.ylabel('Accuracy')\n",
    "plt.title('Model Accuracy')"
   ]
  }
 ],
 "metadata": {
  "kernelspec": {
   "display_name": "Python 3",
   "language": "python",
   "name": "python3"
  },
  "language_info": {
   "codemirror_mode": {
    "name": "ipython",
    "version": 3
   },
   "file_extension": ".py",
   "mimetype": "text/x-python",
   "name": "python",
   "nbconvert_exporter": "python",
   "pygments_lexer": "ipython3",
   "version": "3.8.8"
  }
 },
 "nbformat": 4,
 "nbformat_minor": 5
}
